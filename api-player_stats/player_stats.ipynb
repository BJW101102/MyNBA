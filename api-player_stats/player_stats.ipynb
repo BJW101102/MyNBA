{
 "cells": [
  {
   "cell_type": "code",
   "execution_count": null,
   "metadata": {},
   "outputs": [],
   "source": [
    "import requests\n",
    "import json\n",
    "\n",
    "def get_player_stats_by_team(team_id, season):\n",
    "    \"\"\"\n",
    "    Retrieves player statistics for a specific team and season.\n",
    "\n",
    "    Args:\n",
    "        team_id (int): The ID of the NBA team.\n",
    "        season (str): The desired season (e.g., \"2023\").\n",
    "\n",
    "    Returns:\n",
    "        dict: A dictionary containing player statistics.\n",
    "    \"\"\"\n",
    "    url = \"https://api-nba-v1.p.rapidapi.com/players/statistics\"\n",
    "    querystring = {\"team\": str(team_id), \"season\": str(season)}\n",
    "\n",
    "    headers = {\n",
    "        \"X-RapidAPI-Key\": \"YOUR-API-KEY\",\n",
    "        \"X-RapidAPI-Host\": \"api-nba-v1.p.rapidapi.com\"\n",
    "    }\n",
    "\n",
    "    try:\n",
    "        response = requests.get(url, headers=headers, params=querystring)\n",
    "        player_data = response.json()\n",
    "\n",
    "        # Save the data to a JSON file\n",
    "        with open(\"player_stats.json\", \"w\") as json_file:\n",
    "            json.dump(player_data, json_file, indent=4)  # Indent for readability\n",
    "\n",
    "        print(\"Player stats saved to player_stats.json\")\n",
    "        return player_data\n",
    "\n",
    "    except requests.RequestException as e:\n",
    "        print(f\"Error fetching data: {e}\")\n",
    "        return None\n",
    "\n",
    "# Example usage:\n",
    "team_id = 1  # Replace with the actual team ID\n",
    "season = \"2023\"  # Replace with the desired season\n",
    "\n",
    "team_stats = get_player_stats_by_team(team_id, season)\n",
    "if team_stats:\n",
    "    print(\"Player stats for Team\", team_id)\n",
    "    print(json.dumps(team_stats, indent=4))  # Print in a readable format\n",
    "else:\n",
    "    print(\"Failed to retrieve player stats.\")"
   ]
  }
 ],
 "metadata": {
  "language_info": {
   "name": "python"
  }
 },
 "nbformat": 4,
 "nbformat_minor": 2
}
